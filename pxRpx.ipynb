{
 "cells": [
  {
   "cell_type": "markdown",
   "metadata": {},
   "source": [
    "#### px转rpx"
   ]
  },
  {
   "cell_type": "code",
   "execution_count": 48,
   "metadata": {},
   "outputs": [
    {
     "name": "stdout",
     "output_type": "stream",
     "text": [
      "d:\\\\Dev\\\\Code\\\\miniProgram\\\\miniProgramTutorial\\\\components\\\\bottomTab\\\\bottomTab.wxss\n"
     ]
    }
   ],
   "source": [
    "_filePath = \"pages\\\\index\\\\\"  # 本地目录文件名 Local Dir File Name\n",
    "_fileName = \"index.wxss\" # 文件名称\n",
    "fileName = _filePath + _fileName\n",
    "\n",
    "designDocWidth = 375  #设定设计稿宽度\n",
    "rpxScale = 750 / designDocWidth  #转换倍数\n",
    "\n",
    "import os\n",
    "import re\n",
    "from decimal import *\n",
    "\n",
    "\n",
    "def getFileName(fileName):\n",
    "    path = os.getcwd() + \"\\\\\" + fileName\n",
    "    path = re.sub(r'\\\\', r'\\\\\\\\', path)\n",
    "    return path\n",
    "\n",
    "\n",
    "filePath = getFileName(fileName)\n",
    "\n",
    "cssData = \"\"\n",
    "with open(filePath, 'r+', encoding='UTF-8') as f:\n",
    "    cssData = f.read()\n",
    "\n",
    "while 1:\n",
    "    searchReg = re.search(r'[.0-9]+px', cssData)\n",
    "    if searchReg != None:\n",
    "        beginPos = searchReg.span()[0]\n",
    "        endPos = searchReg.span()[1]\n",
    "        handledData = cssData[beginPos:endPos]  #切片 获取处理数据段\n",
    "\n",
    "        handledDataReg = re.search(r'[.0-9]+', handledData)  #分割数字与rpx\n",
    "        handledDataNumBegin = handledDataReg.span()[0]\n",
    "        handledDataNumEnd = handledDataReg.span()[1]\n",
    "        okNum = float(handledData[handledDataNumBegin:handledDataNumEnd]) * rpxScale  #处理像素大小\n",
    "        handledData = str(round(okNum, 2)) + \"rpx\"\n",
    "\n",
    "        cssDataA = cssData[:beginPos]\n",
    "        cssDataA += handledData\n",
    "        cssData = cssDataA + cssData[endPos:]\n",
    "    else:\n",
    "        break\n",
    "\n",
    "# print(cssData)\n",
    "\n",
    "fileWriteTargetPath = getFileName(_filePath + \"\" + _fileName)\n",
    "print(fileWriteTargetPath)\n",
    "with open(fileWriteTargetPath, 'w') as f:\n",
    "    f.write(cssData)\n"
   ]
  }
 ],
 "metadata": {
  "interpreter": {
   "hash": "81794d4967e6c3204c66dcd87b604927b115b27c00565d3d43f05ba2f3a2cb0d"
  },
  "kernelspec": {
   "display_name": "Python 3.9.7 64-bit",
   "language": "python",
   "name": "python3"
  },
  "language_info": {
   "codemirror_mode": {
    "name": "ipython",
    "version": 3
   },
   "file_extension": ".py",
   "mimetype": "text/x-python",
   "name": "python",
   "nbconvert_exporter": "python",
   "pygments_lexer": "ipython3",
   "version": "3.9.7"
  },
  "orig_nbformat": 4
 },
 "nbformat": 4,
 "nbformat_minor": 2
}
